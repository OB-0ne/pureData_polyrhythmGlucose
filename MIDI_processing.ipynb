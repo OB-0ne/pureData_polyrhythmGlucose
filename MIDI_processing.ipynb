{
 "cells": [
  {
   "cell_type": "code",
   "execution_count": 5,
   "metadata": {},
   "outputs": [],
   "source": [
    "from mido import MidiFile\r\n",
    "import random "
   ]
  },
  {
   "cell_type": "code",
   "execution_count": 13,
   "metadata": {},
   "outputs": [],
   "source": [
    "mid = MidiFile('GlucosePiece Project\\MIDI samples\\MildSucrose 02.mid')"
   ]
  },
  {
   "cell_type": "code",
   "execution_count": 3,
   "metadata": {},
   "outputs": [
    {
     "name": "stdout",
     "output_type": "stream",
     "text": [
      "Track 0: Coke 01_end_3tone\u0000\n"
     ]
    }
   ],
   "source": [
    "# fix the MIDI if needed\r\n",
    "\r\n",
    "for i, track in enumerate(mid.tracks):\r\n",
    "    print('Track {}: {}'.format(i, track.name))\r\n",
    "    for msg in track:\r\n",
    "        if not msg.is_meta:\r\n",
    "            if msg.note == 57:\r\n",
    "                msg.note = 56\r\n",
    "            elif msg.note == 61:\r\n",
    "                msg.note = 64\r\n",
    "            elif msg.note == 55:\r\n",
    "                msg.note = 52"
   ]
  },
  {
   "cell_type": "code",
   "execution_count": 14,
   "metadata": {},
   "outputs": [
    {
     "name": "stdout",
     "output_type": "stream",
     "text": [
      "Track 0: MildSucrose 02\u0000\n"
     ]
    }
   ],
   "source": [
    "# turns off any hit to the current instrument and assigns a random value to the new hit\r\n",
    "\r\n",
    "drum = {52:0,56:0,64:0}\r\n",
    "for i, track in enumerate(mid.tracks):\r\n",
    "    print('Track {}: {}'.format(i, track.name))\r\n",
    "    for msg in track:\r\n",
    "        if not msg.is_meta:\r\n",
    "            if msg.type == 'note_off':\r\n",
    "\r\n",
    "                msg.note = drum[msg.note]\r\n",
    "            else:\r\n",
    "                if msg.note == 60 and i%2==1:\r\n",
    "                    temp = msg.note + random.randrange(4) + 4\r\n",
    "                else:\r\n",
    "                    temp = msg.note + random.randrange(4)\r\n",
    "                drum[msg.note] = temp\r\n",
    "                msg.note = temp\r\n",
    "\r\n",
    "\r\n",
    "mid.save('GlucosePiece Project\\MIDI samples\\MildSucrose 02_r.mid')"
   ]
  }
 ],
 "metadata": {
  "interpreter": {
   "hash": "306b4709344c791e982a258cf5494139869959872aa39c2c4102a54cca0d2138"
  },
  "kernelspec": {
   "display_name": "Python 3.7.4 64-bit",
   "name": "python3"
  },
  "language_info": {
   "name": "python",
   "version": ""
  },
  "orig_nbformat": 2
 },
 "nbformat": 4,
 "nbformat_minor": 2
}