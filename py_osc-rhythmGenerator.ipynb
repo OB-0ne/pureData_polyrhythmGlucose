{
 "cells": [
  {
   "cell_type": "code",
   "execution_count": 68,
   "metadata": {},
   "outputs": [],
   "source": [
    "from pythonosc.udp_client import SimpleUDPClient\r\n",
    "\r\n",
    "import pandas as pd\r\n",
    "import numpy as np\r\n",
    "from random import randint\r\n",
    "from time import sleep, time\r\n",
    "from mido import MidiFile"
   ]
  },
  {
   "cell_type": "code",
   "execution_count": 2,
   "metadata": {},
   "outputs": [
    {
     "data": {
      "text/html": "<div>\n<style scoped>\n    .dataframe tbody tr th:only-of-type {\n        vertical-align: middle;\n    }\n\n    .dataframe tbody tr th {\n        vertical-align: top;\n    }\n\n    .dataframe thead th {\n        text-align: right;\n    }\n</style>\n<table border=\"1\" class=\"dataframe\">\n  <thead>\n    <tr style=\"text-align: right;\">\n      <th></th>\n      <th>low_pitch_val_ts12</th>\n      <th>low_pitch_val_ts16</th>\n      <th>high_pitch_val_ts12</th>\n      <th>high_pitch_val_ts16</th>\n      <th>synth_val_ts</th>\n    </tr>\n  </thead>\n  <tbody>\n    <tr>\n      <th>count</th>\n      <td>56.000000</td>\n      <td>56.000000</td>\n      <td>56.000000</td>\n      <td>56.000000</td>\n      <td>56.000000</td>\n    </tr>\n    <tr>\n      <th>mean</th>\n      <td>8.000000</td>\n      <td>9.821429</td>\n      <td>6.803571</td>\n      <td>8.178571</td>\n      <td>4.642857</td>\n    </tr>\n    <tr>\n      <th>std</th>\n      <td>2.215647</td>\n      <td>3.379656</td>\n      <td>2.726434</td>\n      <td>3.968545</td>\n      <td>1.518714</td>\n    </tr>\n    <tr>\n      <th>min</th>\n      <td>5.000000</td>\n      <td>5.000000</td>\n      <td>4.000000</td>\n      <td>4.000000</td>\n      <td>1.000000</td>\n    </tr>\n    <tr>\n      <th>25%</th>\n      <td>6.000000</td>\n      <td>7.000000</td>\n      <td>4.000000</td>\n      <td>4.000000</td>\n      <td>4.000000</td>\n    </tr>\n    <tr>\n      <th>50%</th>\n      <td>8.000000</td>\n      <td>10.000000</td>\n      <td>6.000000</td>\n      <td>7.500000</td>\n      <td>5.000000</td>\n    </tr>\n    <tr>\n      <th>75%</th>\n      <td>9.000000</td>\n      <td>12.000000</td>\n      <td>9.000000</td>\n      <td>11.000000</td>\n      <td>6.000000</td>\n    </tr>\n    <tr>\n      <th>max</th>\n      <td>12.000000</td>\n      <td>16.000000</td>\n      <td>13.000000</td>\n      <td>17.000000</td>\n      <td>7.000000</td>\n    </tr>\n  </tbody>\n</table>\n</div>",
      "text/plain": "       low_pitch_val_ts12  low_pitch_val_ts16  high_pitch_val_ts12  \\\ncount           56.000000           56.000000            56.000000   \nmean             8.000000            9.821429             6.803571   \nstd              2.215647            3.379656             2.726434   \nmin              5.000000            5.000000             4.000000   \n25%              6.000000            7.000000             4.000000   \n50%              8.000000           10.000000             6.000000   \n75%              9.000000           12.000000             9.000000   \nmax             12.000000           16.000000            13.000000   \n\n       high_pitch_val_ts16  synth_val_ts  \ncount            56.000000     56.000000  \nmean              8.178571      4.642857  \nstd               3.968545      1.518714  \nmin               4.000000      1.000000  \n25%               4.000000      4.000000  \n50%               7.500000      5.000000  \n75%              11.000000      6.000000  \nmax              17.000000      7.000000  "
     },
     "execution_count": 2,
     "metadata": {},
     "output_type": "execute_result"
    }
   ],
   "source": [
    "# read the osc data and check min/max\r\n",
    "df_score = pd.read_csv('data\\osc_data.csv')\r\n",
    "df_score[[col for col in df_score.columns if '_ts' in col]].describe()"
   ]
  },
  {
   "cell_type": "code",
   "execution_count": 8,
   "metadata": {},
   "outputs": [],
   "source": [
    "# make a variable to send OSC messages\r\n",
    "osc_power = SimpleUDPClient(\"127.0.0.1\", 8000)\r\n",
    "osc_messenger = SimpleUDPClient(\"127.0.0.1\", 8001)\r\n",
    "\r\n",
    "# update the changes with change in cycles\r\n",
    "cycle_change = [0,8,30,36,44]\r\n",
    "metro_change = [140,100,110,160,120]   \r\n",
    "change = 0\r\n",
    "bpm = 120\r\n",
    "\r\n",
    "\r\n",
    "# loop for all the cycles\r\n",
    "for i in range(df_score.shape[0]):\r\n",
    "\r\n",
    "    # get current cycle info\r\n",
    "    info = df_score.iloc[i]\r\n",
    "\r\n",
    "    #check if metro needs to be updated\r\n",
    "    if (change<len(cycle_change) and i == cycle_change[change]):\r\n",
    "        bpm = metro_change[change]\r\n",
    "        change = change + 1\r\n",
    "        osc_power.send_message('/metro', bpm)\r\n",
    "    \r\n",
    "    # send needed info to the Pd patch\r\n",
    "    osc_messenger.send_message('/drum_hi_ts', info['high_pitch_val_ts16'])\r\n",
    "    osc_messenger.send_message('/drum_low_ts', info['low_pitch_val_ts16'])\r\n",
    "    osc_messenger.send_message('/groove_seed', change)\r\n",
    "\r\n",
    "    # reset the bpm button\r\n",
    "    osc_messenger.send_message('/set_bpm', 1)\r\n",
    "\r\n",
    "    # start the BPM if its first cycle\r\n",
    "    if i == 0:\r\n",
    "        osc_power.send_message('/power',1)\r\n",
    "\r\n",
    "    # add a delay according to the metro for updated values\r\n",
    "    sleep(int(8*60/bpm))\r\n",
    "\r\n",
    "# end the BPM on pureData\r\n",
    "osc_power.send_message('/power',0)"
   ]
  },
  {
   "cell_type": "code",
   "execution_count": 4,
   "metadata": {},
   "outputs": [
    {
     "name": "stdout",
     "output_type": "stream",
     "text": [
      "0 0.0004963874816894531\n",
      "1 24.0046443939209\n",
      "2 112.0149040222168\n",
      "3 136.0243308544159\n",
      "4 160.10480499267578\n"
     ]
    }
   ],
   "source": [
    "import time\r\n",
    "\r\n",
    "start = (time.time())\r\n",
    "\r\n",
    "# update the changes with change in cycles\r\n",
    "cycle_change = [0,8,30,36,44]\r\n",
    "metro_change = [140,100,110,160,120]   \r\n",
    "change = 0\r\n",
    "bpm = 120\r\n",
    "\r\n",
    "\r\n",
    "# loop for all the cycles\r\n",
    "for i in range(df_score.shape[0]):\r\n",
    "\r\n",
    "    #check if metro needs to be updated\r\n",
    "    if (change<len(cycle_change) and i == cycle_change[change]):\r\n",
    "        print(change, time.time()-start)\r\n",
    "        bpm = metro_change[change]\r\n",
    "        change = change + 1\r\n",
    "\r\n",
    "    # add a delay according to the metro for updated values\r\n",
    "    sleep(int(8*60/bpm))"
   ]
  },
  {
   "cell_type": "code",
   "execution_count": 93,
   "metadata": {},
   "outputs": [
    {
     "name": "stdout",
     "output_type": "stream",
     "text": [
      "GlucosePiece Project\\MIDI samples\\PolyGlucose 04 parts\\used\\PolyGlucose_04_04_02.mid\n",
      "0 0.0029757022857666016 working on PolyGlucose_04_04_02.mid\n",
      "GlucosePiece Project\\MIDI samples\\PolyGlucose 04 parts\\used\\PolyGlucose_04_05.mid\n",
      "1 14.863717317581177 working on PolyGlucose_04_05.mid\n"
     ]
    }
   ],
   "source": [
    "files = []\r\n",
    "\r\n",
    "# files.append('PolyGlucose_04_01.mid')\r\n",
    "# files.append('PolyGlucose_04_02.mid')\r\n",
    "# files.append('PolyGlucose_04_03.mid')\r\n",
    "# files.append('PolyGlucose_04_04_01.mid')\r\n",
    "files.append('PolyGlucose_04_04_02.mid')\r\n",
    "files.append('PolyGlucose_04_05.mid')\r\n",
    "\r\n",
    "# make a variable to send OSC messages\r\n",
    "osc_messenger = SimpleUDPClient(\"127.0.0.1\", 8001)\r\n",
    "\r\n",
    "bass_no = [60,61,62,63,64,65,66,67]\r\n",
    "snare_no = [52,53,54,55]\r\n",
    "hihat_no = [56,57,58,59]\r\n",
    "\r\n",
    "sat_range = [0,2]\r\n",
    "con_range = [0.75,2]\r\n",
    "amt_range = [0,1]\r\n",
    "gain_range = [0,1]\r\n",
    "\r\n",
    "sat = 1\r\n",
    "con = 1\r\n",
    "change = 0.02\r\n",
    "\r\n",
    "amt = 127\r\n",
    "gain = 127\r\n",
    "\r\n",
    "rand_state = -1\r\n",
    "rand_time = 2\r\n",
    "\r\n",
    "start = time()\r\n",
    "\r\n",
    "# let the midi file play itself with the right time\r\n",
    "for i, file in enumerate(files):\r\n",
    "    # read the needed MIDI file\r\n",
    "    name = 'GlucosePiece Project\\\\MIDI samples\\\\PolyGlucose 04 parts\\\\used\\\\' + file\r\n",
    "    print(name)\r\n",
    "    mid = MidiFile(name)\r\n",
    "\r\n",
    "    print(i, time()-start, 'working on ' + file)\r\n",
    "\r\n",
    "    for msg in mid.play():\r\n",
    "        if not msg.is_meta:\r\n",
    "            if msg.type == 'note_on':\r\n",
    "        \r\n",
    "                if msg.note in bass_no:\r\n",
    "                    osc_messenger.send_message('/drum_bass', msg.note - 60 + 1)\r\n",
    "                    \r\n",
    "                    sat -= change\r\n",
    "                    amt += randint(0,rand_time)*rand_state\r\n",
    "                elif msg.note in hihat_no:\r\n",
    "                    osc_messenger.send_message('/drum_hihat', msg.note - 56 + 1)\r\n",
    "                    \r\n",
    "                    sat += change\r\n",
    "                    con += change\r\n",
    "                    amt -= randint(0,rand_time)\r\n",
    "                    gain -= randint(0,rand_time)\r\n",
    "\r\n",
    "                elif msg.note in snare_no:\r\n",
    "                    osc_messenger.send_message('/drum_snare', msg.note - 52 + 1)\r\n",
    "                    \r\n",
    "                    con -= change\r\n",
    "                    gain += randint(0,rand_time) * rand_state\r\n",
    "\r\n",
    "            elif msg.type == 'note_off':\r\n",
    "                send = 0\r\n",
    "\r\n",
    "                if msg.note in bass_no:\r\n",
    "                    osc_messenger.send_message('/drum_bass', send)\r\n",
    "                elif msg.note in hihat_no:\r\n",
    "                    osc_messenger.send_message('/drum_hihat', send)\r\n",
    "                elif msg.note in snare_no:\r\n",
    "                    osc_messenger.send_message('/drum_snare', send)\r\n",
    "\r\n",
    "            osc_messenger.send_message('/sat', sat)\r\n",
    "            osc_messenger.send_message('/con', con)\r\n",
    "            osc_messenger.send_message('/amt', amt)\r\n",
    "            osc_messenger.send_message('/gain', gain)\r\n",
    "\r\n",
    "            if amt < 30 and gain < 30:\r\n",
    "                rand_state = 1\r\n",
    "                rand_time = 1"
   ]
  }
 ],
 "metadata": {
  "interpreter": {
   "hash": "306b4709344c791e982a258cf5494139869959872aa39c2c4102a54cca0d2138"
  },
  "kernelspec": {
   "display_name": "Python 3.7.4 64-bit",
   "name": "python3"
  },
  "language_info": {
   "codemirror_mode": {
    "name": "ipython",
    "version": 3
   },
   "file_extension": ".py",
   "mimetype": "text/x-python",
   "name": "python",
   "nbconvert_exporter": "python",
   "pygments_lexer": "ipython3",
   "version": "3.7.4"
  },
  "orig_nbformat": 2
 },
 "nbformat": 4,
 "nbformat_minor": 2
}