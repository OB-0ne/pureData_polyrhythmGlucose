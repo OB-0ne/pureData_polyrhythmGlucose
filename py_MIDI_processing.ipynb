{
 "cells": [
  {
   "cell_type": "code",
   "execution_count": 1,
   "metadata": {},
   "outputs": [],
   "source": [
    "from mido import MidiFile\r\n",
    "import random "
   ]
  },
  {
   "cell_type": "code",
   "execution_count": 38,
   "metadata": {},
   "outputs": [],
   "source": [
    "file = 'GlucosePiece Project\\MIDI samples\\PolyGlucose 04 parts\\PolyGlucose_04_05.mid'\r\n",
    "mid = MidiFile(file)"
   ]
  },
  {
   "cell_type": "code",
   "execution_count": 39,
   "metadata": {},
   "outputs": [
    {
     "name": "stdout",
     "output_type": "stream",
     "text": [
      "Track 0: PolyGlucose_04_05\u0000\n"
     ]
    }
   ],
   "source": [
    "# fix the MIDI if needed\r\n",
    "\r\n",
    "for i, track in enumerate(mid.tracks):\r\n",
    "    print('Track {}: {}'.format(i, track.name))\r\n",
    "    for msg in track:\r\n",
    "        if not msg.is_meta:\r\n",
    "            if msg.note == 57:\r\n",
    "                msg.note = 56\r\n",
    "            elif msg.note == 61:\r\n",
    "                msg.note = 64\r\n",
    "            elif msg.note == 60:\r\n",
    "                msg.note = 60\r\n",
    "            elif msg.note == 64:\r\n",
    "                msg.note = 60\r\n",
    "            elif msg.note == 55:\r\n",
    "                msg.note = 52"
   ]
  },
  {
   "cell_type": "code",
   "execution_count": 40,
   "metadata": {},
   "outputs": [
    {
     "name": "stdout",
     "output_type": "stream",
     "text": [
      "Track 0: PolyGlucose_04_05\u0000\n"
     ]
    },
    {
     "ename": "KeyError",
     "evalue": "62",
     "output_type": "error",
     "traceback": [
      "\u001b[1;31m---------------------------------------------------------------------------\u001b[0m",
      "\u001b[1;31mKeyError\u001b[0m                                  Traceback (most recent call last)",
      "\u001b[1;32m<ipython-input-40-25e1e229b3f2>\u001b[0m in \u001b[0;36m<module>\u001b[1;34m\u001b[0m\n\u001b[0;32m      8\u001b[0m             \u001b[1;32mif\u001b[0m \u001b[0mmsg\u001b[0m\u001b[1;33m.\u001b[0m\u001b[0mtype\u001b[0m \u001b[1;33m==\u001b[0m \u001b[1;34m'note_off'\u001b[0m\u001b[1;33m:\u001b[0m\u001b[1;33m\u001b[0m\u001b[1;33m\u001b[0m\u001b[0m\n\u001b[0;32m      9\u001b[0m \u001b[1;33m\u001b[0m\u001b[0m\n\u001b[1;32m---> 10\u001b[1;33m                 \u001b[0mmsg\u001b[0m\u001b[1;33m.\u001b[0m\u001b[0mnote\u001b[0m \u001b[1;33m=\u001b[0m \u001b[0mdrum\u001b[0m\u001b[1;33m[\u001b[0m\u001b[0mmsg\u001b[0m\u001b[1;33m.\u001b[0m\u001b[0mnote\u001b[0m\u001b[1;33m]\u001b[0m\u001b[1;33m\u001b[0m\u001b[1;33m\u001b[0m\u001b[0m\n\u001b[0m\u001b[0;32m     11\u001b[0m             \u001b[1;32melse\u001b[0m\u001b[1;33m:\u001b[0m\u001b[1;33m\u001b[0m\u001b[1;33m\u001b[0m\u001b[0m\n\u001b[0;32m     12\u001b[0m                 \u001b[1;32mif\u001b[0m \u001b[0mmsg\u001b[0m\u001b[1;33m.\u001b[0m\u001b[0mnote\u001b[0m \u001b[1;33m==\u001b[0m \u001b[1;36m60\u001b[0m\u001b[1;33m:\u001b[0m\u001b[1;33m\u001b[0m\u001b[1;33m\u001b[0m\u001b[0m\n",
      "\u001b[1;31mKeyError\u001b[0m: 62"
     ]
    }
   ],
   "source": [
    "# turns off any hit to the current instrument and assigns a random value to the new hit\r\n",
    "\r\n",
    "drum = {52:0,56:0,60:0,64:0}\r\n",
    "for i, track in enumerate(mid.tracks):\r\n",
    "    print('Track {}: {}'.format(i, track.name))\r\n",
    "    for msg in track:\r\n",
    "        if not msg.is_meta:\r\n",
    "            if msg.type == 'note_off':\r\n",
    "\r\n",
    "                msg.note = drum[msg.note]\r\n",
    "            else:\r\n",
    "                if msg.note == 60 and if i%2==1:\r\n",
    "                        msg.note = msg.note + 4\r\n",
    "\r\n",
    "                temp = msg.note + random.randrange(4)\r\n",
    "                drum[msg.note] = temp\r\n",
    "                msg.note = temp\r\n",
    "\r\n",
    "\r\n",
    "# mid.save('GlucosePiece Project\\MIDI samples\\PolyGlucose_04_01.mid')\r\n",
    "mid.save(file)"
   ]
  }
 ],
 "metadata": {
  "interpreter": {
   "hash": "306b4709344c791e982a258cf5494139869959872aa39c2c4102a54cca0d2138"
  },
  "kernelspec": {
   "display_name": "Python 3.7.4 64-bit",
   "name": "python3"
  },
  "language_info": {
   "codemirror_mode": {
    "name": "ipython",
    "version": 3
   },
   "file_extension": ".py",
   "mimetype": "text/x-python",
   "name": "python",
   "nbconvert_exporter": "python",
   "pygments_lexer": "ipython3",
   "version": "3.7.4"
  },
  "orig_nbformat": 2
 },
 "nbformat": 4,
 "nbformat_minor": 2
}