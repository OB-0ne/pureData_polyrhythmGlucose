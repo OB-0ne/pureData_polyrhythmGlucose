{
 "cells": [
  {
   "cell_type": "code",
   "execution_count": 1,
   "metadata": {},
   "outputs": [],
   "source": [
    "from pythonosc.udp_client import SimpleUDPClient\r\n",
    "\r\n",
    "import pandas as pd\r\n",
    "import numpy as np\r\n",
    "from time import sleep"
   ]
  },
  {
   "cell_type": "code",
   "execution_count": 2,
   "metadata": {},
   "outputs": [
    {
     "data": {
      "text/html": "<div>\n<style scoped>\n    .dataframe tbody tr th:only-of-type {\n        vertical-align: middle;\n    }\n\n    .dataframe tbody tr th {\n        vertical-align: top;\n    }\n\n    .dataframe thead th {\n        text-align: right;\n    }\n</style>\n<table border=\"1\" class=\"dataframe\">\n  <thead>\n    <tr style=\"text-align: right;\">\n      <th></th>\n      <th>low_pitch_val_ts12</th>\n      <th>low_pitch_val_ts16</th>\n      <th>high_pitch_val_ts12</th>\n      <th>high_pitch_val_ts16</th>\n      <th>synth_val_ts</th>\n    </tr>\n  </thead>\n  <tbody>\n    <tr>\n      <th>count</th>\n      <td>56.000000</td>\n      <td>56.000000</td>\n      <td>56.000000</td>\n      <td>56.000000</td>\n      <td>56.000000</td>\n    </tr>\n    <tr>\n      <th>mean</th>\n      <td>8.000000</td>\n      <td>9.821429</td>\n      <td>6.803571</td>\n      <td>8.178571</td>\n      <td>4.642857</td>\n    </tr>\n    <tr>\n      <th>std</th>\n      <td>2.215647</td>\n      <td>3.379656</td>\n      <td>2.726434</td>\n      <td>3.968545</td>\n      <td>1.518714</td>\n    </tr>\n    <tr>\n      <th>min</th>\n      <td>5.000000</td>\n      <td>5.000000</td>\n      <td>4.000000</td>\n      <td>4.000000</td>\n      <td>1.000000</td>\n    </tr>\n    <tr>\n      <th>25%</th>\n      <td>6.000000</td>\n      <td>7.000000</td>\n      <td>4.000000</td>\n      <td>4.000000</td>\n      <td>4.000000</td>\n    </tr>\n    <tr>\n      <th>50%</th>\n      <td>8.000000</td>\n      <td>10.000000</td>\n      <td>6.000000</td>\n      <td>7.500000</td>\n      <td>5.000000</td>\n    </tr>\n    <tr>\n      <th>75%</th>\n      <td>9.000000</td>\n      <td>12.000000</td>\n      <td>9.000000</td>\n      <td>11.000000</td>\n      <td>6.000000</td>\n    </tr>\n    <tr>\n      <th>max</th>\n      <td>12.000000</td>\n      <td>16.000000</td>\n      <td>13.000000</td>\n      <td>17.000000</td>\n      <td>7.000000</td>\n    </tr>\n  </tbody>\n</table>\n</div>",
      "text/plain": "       low_pitch_val_ts12  low_pitch_val_ts16  high_pitch_val_ts12  \\\ncount           56.000000           56.000000            56.000000   \nmean             8.000000            9.821429             6.803571   \nstd              2.215647            3.379656             2.726434   \nmin              5.000000            5.000000             4.000000   \n25%              6.000000            7.000000             4.000000   \n50%              8.000000           10.000000             6.000000   \n75%              9.000000           12.000000             9.000000   \nmax             12.000000           16.000000            13.000000   \n\n       high_pitch_val_ts16  synth_val_ts  \ncount            56.000000     56.000000  \nmean              8.178571      4.642857  \nstd               3.968545      1.518714  \nmin               4.000000      1.000000  \n25%               4.000000      4.000000  \n50%               7.500000      5.000000  \n75%              11.000000      6.000000  \nmax              17.000000      7.000000  "
     },
     "execution_count": 2,
     "metadata": {},
     "output_type": "execute_result"
    }
   ],
   "source": [
    "# read the osc data and check min/max\r\n",
    "df_score = pd.read_csv('data\\osc_data.csv')\r\n",
    "df_score[[col for col in df_score.columns if '_ts' in col]].describe()"
   ]
  },
  {
   "cell_type": "code",
   "execution_count": 8,
   "metadata": {},
   "outputs": [],
   "source": [
    "# make a variable to send OSC messages\r\n",
    "osc_power = SimpleUDPClient(\"127.0.0.1\", 8000)\r\n",
    "osc_messenger = SimpleUDPClient(\"127.0.0.1\", 8001)\r\n",
    "\r\n",
    "# update the changes with change in cycles\r\n",
    "cycle_change = [0,8,30,36,44]\r\n",
    "metro_change = [140,100,110,160,120]   \r\n",
    "change = 0\r\n",
    "bpm = 120\r\n",
    "\r\n",
    "\r\n",
    "# loop for all the cycles\r\n",
    "for i in range(df_score.shape[0]):\r\n",
    "\r\n",
    "    # get current cycle info\r\n",
    "    info = df_score.iloc[i]\r\n",
    "\r\n",
    "    #check if metro needs to be updated\r\n",
    "    if (change<len(cycle_change) and i == cycle_change[change]):\r\n",
    "        bpm = metro_change[change]\r\n",
    "        change = change + 1\r\n",
    "        osc_power.send_message('/metro', bpm)\r\n",
    "    \r\n",
    "    # send needed info to the Pd patch\r\n",
    "    osc_messenger.send_message('/drum_hi_ts', info['high_pitch_val_ts16'])\r\n",
    "    osc_messenger.send_message('/drum_low_ts', info['low_pitch_val_ts16'])\r\n",
    "    osc_messenger.send_message('/groove_seed', change)\r\n",
    "\r\n",
    "    # reset the bpm button\r\n",
    "    osc_messenger.send_message('/set_bpm', 1)\r\n",
    "\r\n",
    "    # start the BPM if its first cycle\r\n",
    "    if i == 0:\r\n",
    "        osc_power.send_message('/power',1)\r\n",
    "\r\n",
    "    # add a delay according to the metro for updated values\r\n",
    "    sleep(int(8*60/bpm))\r\n",
    "\r\n",
    "# end the BPM on pureData\r\n",
    "osc_power.send_message('/power',0)"
   ]
  },
  {
   "cell_type": "code",
   "execution_count": 4,
   "metadata": {},
   "outputs": [
    {
     "name": "stdout",
     "output_type": "stream",
     "text": [
      "0 0.0004963874816894531\n",
      "1 24.0046443939209\n",
      "2 112.0149040222168\n",
      "3 136.0243308544159\n",
      "4 160.10480499267578\n"
     ]
    }
   ],
   "source": [
    "import time\r\n",
    "\r\n",
    "start = (time.time())\r\n",
    "\r\n",
    "# update the changes with change in cycles\r\n",
    "cycle_change = [0,8,30,36,44]\r\n",
    "metro_change = [140,100,110,160,120]   \r\n",
    "change = 0\r\n",
    "bpm = 120\r\n",
    "\r\n",
    "\r\n",
    "# loop for all the cycles\r\n",
    "for i in range(df_score.shape[0]):\r\n",
    "\r\n",
    "    #check if metro needs to be updated\r\n",
    "    if (change<len(cycle_change) and i == cycle_change[change]):\r\n",
    "        print(change, time.time()-start)\r\n",
    "        bpm = metro_change[change]\r\n",
    "        change = change + 1\r\n",
    "\r\n",
    "    # add a delay according to the metro for updated values\r\n",
    "    sleep(int(8*60/bpm))"
   ]
  }
 ],
 "metadata": {
  "interpreter": {
   "hash": "306b4709344c791e982a258cf5494139869959872aa39c2c4102a54cca0d2138"
  },
  "kernelspec": {
   "display_name": "Python 3.7.4 64-bit",
   "name": "python3"
  },
  "language_info": {
   "codemirror_mode": {
    "name": "ipython",
    "version": 3
   },
   "file_extension": ".py",
   "mimetype": "text/x-python",
   "name": "python",
   "nbconvert_exporter": "python",
   "pygments_lexer": "ipython3",
   "version": "3.7.4"
  },
  "orig_nbformat": 2
 },
 "nbformat": 4,
 "nbformat_minor": 2
}